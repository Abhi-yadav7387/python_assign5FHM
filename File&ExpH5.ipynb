{
  "nbformat": 4,
  "nbformat_minor": 0,
  "metadata": {
    "colab": {
      "provenance": []
    },
    "kernelspec": {
      "name": "python3",
      "display_name": "Python 3"
    },
    "language_info": {
      "name": "python"
    }
  },
  "cells": [
    {
      "cell_type": "markdown",
      "source": [
        "**Files, exceptional handling,logging and memory management || THEORY Q/A**"
      ],
      "metadata": {
        "id": "5kMqYBlhJInK"
      }
    },
    {
      "cell_type": "markdown",
      "source": [
        "1. What is the difference between interpreted and compiled languages?\n",
        "\n",
        "Ans :-  1. Interpreted Languages\n",
        "Definition: Code is executed line-by-line by an interpreter at runtime.\n",
        "\n",
        "Execution: Slower than compiled languages, but easier to debug.\n",
        "\n",
        "Examples: Python, JavaScript, Ruby, PHP.\n",
        "\n",
        "In Python:\n",
        "When you write .py files and run them, Python interprets the code line by line using the CPython interpreter.\n",
        "\n",
        "Internally, Python converts code to bytecode (.pyc) and executes it using the Python virtual machine (PVM).\n",
        "\n",
        "⚙️ 2. Compiled Languages\n",
        "Definition: The entire code is converted into machine code by a compiler before execution.\n",
        "\n",
        "Execution: Faster, but less flexible for dynamic coding or debugging.\n",
        "\n",
        "Examples: C, C++, Go, Rust.\n",
        "\n",
        "\n",
        "\n",
        "2. What is exception handling in Python?\n",
        "Exception handling in Python is a mechanism that allows you to gracefully handle errors during program execution without crashing the program.\n",
        "\n",
        "⚠️ What is an Exception?\n",
        "An exception is an error that occurs during the execution of a program.\n",
        "Examples:\n",
        "\n",
        "Dividing by zero: ZeroDivisionError\n",
        "\n",
        "Accessing an undefined variable: NameError\n",
        "\n",
        "Opening a non-existent file: FileNotFoundError\n",
        "\n",
        "🛠️ Why Use Exception Handling?\n",
        "Prevents program crashes.\n",
        "\n",
        "Provides user-friendly error messages.\n",
        "\n",
        "Helps identify and handle unexpected conditions.\n",
        "\n",
        "3.What is the purpose of the finally block in exception handling?\n",
        "\n",
        "The finally block in Python is used to define a section of code that will always execute, regardless of whether an exception occurred or not.\n",
        "\n",
        "🔍 Purpose of finally Block\n",
        "To clean up resources (e.g., close files, release memory, close database connections).\n",
        "\n",
        "To ensure critical cleanup code runs even if an error occurs.\n",
        "\n",
        "It guarantees execution after the try and except blocks finish.\n",
        "\n",
        "🧱 Syntax\n",
        "python\n",
        "try:\n",
        "    # Risky code\n",
        "    file = open(\"data.txt\", \"r\")\n",
        "    content = file.read()\n",
        "except FileNotFoundError:\n",
        "    print(\"File not found.\")\n",
        "finally:\n",
        "    print(\"This will always run — cleaning up!\")\n",
        "\n",
        "4.What is logging in Python?\n",
        "\n",
        "Logging in Python is a built-in module that helps you track events that happen when your program runs. It is commonly used for:\n",
        "\n",
        "Debugging\n",
        "\n",
        "Monitoring\n",
        "\n",
        "Error reporting\n",
        "\n",
        "Saving runtime information to files or consoles\n",
        "\n",
        "📚 Why Use Logging Instead of Print()?\n",
        "print()\tlogging\n",
        "For simple debugging\tFor professional, configurable tracking\n",
        "Cannot set levels (info, error)\tSupports levels like DEBUG, INFO, ERROR\n",
        "No log file output\tCan write to files or send to servers\n",
        "Hard to manage in large apps\tEasily managed with log levels & handlers\n",
        "\n",
        "5. What is the significance of the __del__ method in Python?\n",
        "\n",
        "The __del__() method in Python is known as a destructor.\n",
        "It is called automatically when an object is about to be destroyed or garbage collected.\n",
        "\n",
        "🔍 Purpose of __del__()\n",
        "Used to clean up resources before an object is deleted.\n",
        "\n",
        "Commonly used to:\n",
        "\n",
        "Close files\n",
        "\n",
        "Close database connections\n",
        "\n",
        "Free network resources or memory\n",
        "\n",
        "Log object deletion\n",
        "\n",
        "🧪 Example\n",
        "python\n",
        "\n",
        "class FileHandler:\n",
        "    def __init__(self, filename):\n",
        "        self.file = open(filename, 'r')\n",
        "        print(\"File opened.\")\n",
        "\n",
        "    def __del__(self):\n",
        "        self.file.close()\n",
        "        print(\"File closed.\")\n",
        "\n",
        "obj = FileHandler(\"sample.txt\")\n",
        "del obj  # Forces object deletion\n",
        "\n",
        "6. What is the difference between import and from ... import in Python?\n",
        "\n",
        "Both import and from ... import are used to include external modules or specific components from modules into your Python code — but they work differently.\n",
        "\n",
        "🔹 1. import Statement\n",
        "✅ Syntax:\n",
        "python\n",
        "Copy\n",
        "Edit\n",
        "import module_name\n",
        "📌 Behavior:\n",
        "Imports the entire module.\n",
        "\n",
        "You must use the module name as a prefix to access its functions or variables.\n",
        "\n",
        "🧪 Example:\n",
        "python\n",
        "\n",
        "\n",
        "import math\n",
        "\n",
        "print(math.sqrt(16))  # ✅ Access with module prefix\n",
        "🔹 2. from ... import Statement\n",
        "✅ Syntax:\n",
        "python\n",
        "\n",
        "\n",
        "from module_name import function_name\n",
        "📌 Behavior:\n",
        "Imports specific functions, classes, or variables from a module.\n",
        "\n",
        "You can use them directly without the module name.\n",
        "\n",
        "🧪 Example:\n",
        "python\n",
        "\n",
        "\n",
        "from math import sqrt\n",
        "\n",
        "print(sqrt(16))  # ✅ No module prefix needed\n",
        "\n",
        "7.How can you handle multiple exceptions in Python?\n",
        "\n",
        "You can handle multiple exceptions in Python by:\n",
        "\n",
        "🔹 1. Multiple except Blocks (for different handling)\n",
        "python\n",
        "\n",
        "try:\n",
        "    # risky code\n",
        "except ValueError:\n",
        "    # handle ValueError\n",
        "except ZeroDivisionError:\n",
        "    # handle ZeroDivisionError\n",
        "🔹 2. Single except with a Tuple (same handling)\n",
        "python\n",
        "\n",
        "try:\n",
        "    # risky code\n",
        "except (ValueError, ZeroDivisionError):\n",
        "    # handle both exceptions the same way\n",
        "🔹 3. Generic Exception (Not recommended unless necessary)\n",
        "python\n",
        "\n",
        "except Exception as e:\n",
        "    print(f\"Error: {e}\")\n",
        "\n",
        "8. What is the purpose of the with statement when handling files in Python?\n",
        "\n",
        "The with statement is used to open and manage files safely and efficiently.\n",
        "It ensures that the file is automatically closed after the block is executed, even if an error occurs.\n",
        "\n",
        "🔹 Purpose:\n",
        "Manages resources like files.\n",
        "\n",
        "Automatically closes the file — no need to call file.close().\n",
        "\n",
        "Helps prevent resource leaks.\n",
        "\n",
        "🧪 Example:\n",
        "python\n",
        "\n",
        "with open(\"data.txt\", \"r\") as file:\n",
        "    content = file.read()\n",
        "# File is automatically closed here\n",
        "✅ Advantages:\n",
        "Cleaner and shorter syntax.\n",
        "\n",
        "Safer — avoids forgetting file.close().\n",
        "\n",
        "Prevents file corruption and memory leaks.\n",
        "\n",
        "9. What is the difference between multithreading and multiprocessing?\n",
        "\n",
        "Feature\tMultithreading\tMultiprocessing\n",
        "🔄 Definition\tRuns multiple threads (lightweight tasks)\tRuns multiple processes (separate memory)\n",
        "🧠 Used For\tI/O-bound tasks (e.g., file, network I/O)\tCPU-bound tasks (e.g., data processing)\n",
        "🧵 Threads/Processes\tMultiple threads in the same process\tMultiple processes (independent memory)\n",
        "🧱 Memory Usage\tShared memory space\tSeparate memory space\n",
        "🔐 GIL Effect\tAffected by GIL (Global Interpreter Lock)\tNot affected by GIL\n",
        "⚡ Speed\tFaster for I/O tasks\tFaster for CPU-heavy tasks\n",
        "\n",
        "🧠 Key Point:\n",
        "Python’s GIL allows only one thread to execute Python bytecode at a time — which limits multithreading for CPU-bound tasks.\n",
        "\n",
        "Multiprocessing creates real parallelism by using multiple CPU cores.\n",
        "\n",
        "10. What are the advantages of using logging in a program?\n",
        "\n",
        "Using the logging module in Python provides several key benefits over using simple print() statements.\n",
        "\n",
        "🔹 1. Better Debugging and Monitoring\n",
        "Logs help you trace issues and monitor how your program behaves at runtime.\n",
        "\n",
        "🔹 2. Multiple Log Levels\n",
        "You can categorize messages:\n",
        "\n",
        "DEBUG, INFO, WARNING, ERROR, CRITICAL\n",
        "\n",
        "🔹 3. Output to Multiple Destinations\n",
        "You can log to:\n",
        "\n",
        "Console\n",
        "\n",
        "Files\n",
        "\n",
        "Remote servers\n",
        "\n",
        "Databases\n",
        "\n",
        "🔹 4. Persistent Logs\n",
        "Logs written to a file can be reviewed later, even after the program has stopped running.\n",
        "\n",
        "🔹 5. More Control Than print()\n",
        "Easily format logs, filter messages, and rotate log files.\n",
        "\n",
        "Enable or disable logging dynamically.\n",
        "\n",
        "🔹 6. Helps in Production\n",
        "Print is okay for small scripts, but logging is essential in real-world applications for diagnosing issues without interrupting users.\n",
        "\n",
        "11. What is memory management in Python?\n",
        "Memory management in Python refers to how Python allocates, uses, and frees memory while running a program.\n",
        "\n",
        "🔹 Key Components of Python Memory Management\n",
        "1. 🧠 Automatic Memory Allocation\n",
        "Python automatically allocates memory for variables, objects, and data structures when they are created.\n",
        "\n",
        "2. ♻️ Garbage Collection\n",
        "Python uses a garbage collector to free memory occupied by objects that are no longer in use.\n",
        "\n",
        "It primarily uses reference counting and cyclic garbage collection.\n",
        "\n",
        "3. 🧾 Reference Counting\n",
        "Each object keeps track of how many references point to it.\n",
        "\n",
        "When the reference count drops to zero, the memory is automatically reclaimed.\n",
        "\n",
        "4. 🔁 Cyclic Garbage Collector\n",
        "Detects and cleans up circular references, which reference counting alone can’t handle.\n",
        "\n",
        "12. What are the basic steps involved in exception handling in Python?\n",
        "\n",
        "Python handles exceptions using a structured try-except approach. Here are the basic steps:\n",
        "\n",
        "🔹 1. Try Block\n",
        "Write the risky code that might cause an exception.\n",
        "\n",
        "python\n",
        "\n",
        "try:\n",
        "    result = 10 / 0\n",
        "🔹 2. Except Block\n",
        "Catch and handle the exception if one occurs.\n",
        "\n",
        "python\n",
        "\n",
        "except ZeroDivisionError:\n",
        "    print(\"You can't divide by zero.\")\n",
        "🔹 3. Else Block (Optional)\n",
        "Runs only if no exception occurs in the try block.\n",
        "\n",
        "python\n",
        "\n",
        "else:\n",
        "    print(\"Division successful.\")\n",
        "🔹 4. Finally Block (Optional)\n",
        "Runs always, whether an exception occurs or not — used for cleanup.\n",
        "\n",
        "python\n",
        "\n",
        "finally:\n",
        "    print(\"Execution complete.\")\n",
        "\n",
        "13. Why is memory management important in Python?\n",
        "Memory management is crucial in Python (and any programming language) because it ensures your program:\n",
        "\n",
        "🔹 1. Avoids Memory Leaks\n",
        "Prevents your program from using more memory than needed.\n",
        "\n",
        "Frees up unused memory, avoiding system slowdowns or crashes.\n",
        "\n",
        "🔹 2. Improves Performance\n",
        "Efficient memory use means your program runs faster and smoother.\n",
        "\n",
        "Less memory overhead leads to better scalability.\n",
        "\n",
        "🔹 3. Supports Large-Scale Applications\n",
        "In data-heavy or long-running programs (like web servers or data pipelines), good memory management ensures reliability and stability over time.\n",
        "\n",
        "🔹 4. Automatic Cleanup\n",
        "Python uses automatic garbage collection, so you don't need to manually free memory.\n",
        "\n",
        "However, understanding memory helps you write better code and avoid keeping unnecessary references.\n",
        "\n",
        "14. What is the role of try and except in exception handling?\n",
        "\n",
        "The try and except blocks are the core components of Python's exception handling system.\n",
        "\n",
        "🔹 try Block\n",
        "Used to wrap code that might raise an exception.\n",
        "\n",
        "Python tries to execute the code inside the block.\n",
        "\n",
        "If no error occurs, it runs normally and skips the except block.\n",
        "\n",
        "python\n",
        "\n",
        "try:\n",
        "    result = 10 / 0\n",
        "🔹 except Block\n",
        "If an error occurs in the try block, the flow jumps to the except block.\n",
        "\n",
        "It catches and handles the exception, preventing the program from crashing.\n",
        "\n",
        "python\n",
        "\n",
        "\n",
        "except ZeroDivisionError:\n",
        "    print(\"Cannot divide by zero.\")\n",
        "🧠 Example:\n",
        "python\n",
        "\n",
        "\n",
        "try:\n",
        "    x = int(input(\"Enter a number: \"))\n",
        "    result = 10 / x\n",
        "except ZeroDivisionError:\n",
        "    print(\"You can't divide by zero.\")\n",
        "except ValueError:\n",
        "    print(\"Please enter a valid number.\")\n",
        "\n",
        "\n",
        "15. How does Python's garbage collection system work?\n",
        "\n",
        "Python’s garbage collection system automatically manages memory by reclaiming memory used by objects that are no longer needed, so you don't have to do it manually.\n",
        "\n",
        "🔹 Key Mechanisms of Garbage Collection in Python\n",
        "1. 🧮 Reference Counting\n",
        "Every object keeps track of the number of references pointing to it.\n",
        "\n",
        "When the reference count drops to zero, the object is immediately deleted.\n",
        "\n",
        "python\n",
        "\n",
        "a = [1, 2, 3]\n",
        "b = a  # reference count = 2\n",
        "del a  # reference count = 1\n",
        "del b  # reference count = 0 → object is deleted\n",
        "2. 🔁 Cycle Detection (Cyclic Garbage Collection)\n",
        "Python can detect and clean up reference cycles (where objects reference each other, preventing ref count from reaching 0).\n",
        "\n",
        "16. What is the purpose of the else block in exception handling?\n",
        "\n",
        "The else block in Python's exception handling is used to define code that should run only if no exception occurs in the try block.\n",
        "\n",
        "🔹 Purpose:\n",
        "Separate the error-handling code (except) from the normal execution logic (else).\n",
        "\n",
        "Makes code cleaner and easier to read.\n",
        "\n",
        "🧠 How it Works:\n",
        "If the try block runs successfully (no exceptions), the else block is executed.\n",
        "\n",
        "If an exception is raised, the else block is skipped.\n",
        "\n",
        "🧪 Example:\n",
        "python\n",
        "\n",
        "try:\n",
        "    num = int(input(\"Enter a number: \"))\n",
        "except ValueError:\n",
        "    print(\"Invalid input!\")\n",
        "else:\n",
        "    print(f\"You entered: {num}\")\n",
        "\n",
        "17. What are the common logging levels in Python?\n",
        "Python’s logging module provides five standard logging levels, each representing the severity of the event being logged.\n",
        "\n",
        "🔹 Common Logging Levels (from lowest to highest):\n",
        "Level\tFunction\tWhen to Use\n",
        "DEBUG (10)\tlogging.debug()\tFor detailed info, typically useful for debugging\n",
        "INFO (20)\tlogging.info()\tFor general information about program execution\n",
        "WARNING (30)\tlogging.warning()\tFor something unexpected, but the program continues\n",
        "ERROR (40)\tlogging.error()\tFor serious issues that may prevent part of the program from working\n",
        "CRITICAL (50)\tlogging.critical()\tFor very severe errors, program may not continue\n",
        "\n",
        "18. What is the difference between os.fork() and multiprocessing in Python?\n",
        "\n",
        "Both os.fork() and the multiprocessing module are used to create new processes, but they differ in portability, ease of use, and control.\n",
        "\n",
        "🔹 1. os.fork()\n",
        "Creates a child process by duplicating the current process.\n",
        "\n",
        "Available only on Unix/Linux systems (🚫 not available on Windows).\n",
        "\n",
        "Low-level and requires manual management of parent and child logic.\n",
        "\n",
        "🧪 Example:\n",
        "python\n",
        "\n",
        "import os\n",
        "\n",
        "pid = os.fork()\n",
        "\n",
        "if pid == 0:\n",
        "    print(\"Child process\")\n",
        "else:\n",
        "    print(\"Parent process, child PID:\", pid)\n",
        "🔹 2. multiprocessing Module\n",
        "High-level module to create and manage multiple processes.\n",
        "\n",
        "Cross-platform: works on Windows, Linux, macOS.\n",
        "\n",
        "Supports:\n",
        "\n",
        "Process creation\n",
        "\n",
        "Inter-process communication\n",
        "\n",
        "Synchronization\n",
        "\n",
        "Pools and queues\n",
        "\n",
        "🧪 Example:\n",
        "python\n",
        "\n",
        "from multiprocessing import Process\n",
        "\n",
        "def task():\n",
        "    print(\"Child process running\")\n",
        "\n",
        "p = Process(target=task)\n",
        "p.start()\n",
        "p.join()\n",
        "\n",
        "\n",
        "19. What is the importance of closing a file in Python?\n",
        "\n",
        "Closing a file in Python using file.close() (or automatically via a with statement) is essential for proper resource management.\n",
        "\n",
        "🔹 Why It's Important:\n",
        "1. 🧠 Frees System Resources\n",
        "Open files consume memory and file descriptors.\n",
        "\n",
        "Closing the file releases those resources back to the system.\n",
        "\n",
        "2. 💾 Ensures Data is Written\n",
        "If you're writing to a file, close() ensures all buffered data is flushed and saved correctly.\n",
        "\n",
        "Without closing, some data may remain in the buffer and never reach the file.\n",
        "\n",
        "3. ⚠️ Prevents Data Corruption\n",
        "Not closing a file properly might result in incomplete writes or file corruption, especially during crashes.\n",
        "\n",
        "4. 🚫 Avoids File Access Errors\n",
        "Some systems limit the number of open files.\n",
        "\n",
        "Forgetting to close files can lead to \"Too many open files\" errors.\n",
        "\n",
        "🔧 Manual Closing\n",
        "python\n",
        "\n",
        "file = open(\"example.txt\", \"w\")\n",
        "file.write(\"Hello\")\n",
        "file.close()  # Important!\n",
        "\n",
        "20. What is the difference between file.read() and file.readline() in Python?\n",
        "Both file.read() and file.readline() are used to read data from a file, but they behave differently in how much they read.\n",
        "\n",
        "🔹 1. file.read()\n",
        "Reads the entire file (or a specified number of bytes).\n",
        "\n",
        "Returns the whole content as a single string.\n",
        "\n",
        "🧪 Example:\n",
        "python\n",
        "Copy\n",
        "Edit\n",
        "with open(\"example.txt\", \"r\") as f:\n",
        "    data = f.read()\n",
        "    print(data)\n",
        "✅ Use when: You want to load all content at once.\n",
        "\n",
        "🔹 2. file.readline()\n",
        "Reads one line at a time from the file.\n",
        "\n",
        "Each call reads the next line including the newline character \\n.\n",
        "\n",
        "🧪 Example:\n",
        "python\n",
        "Copy\n",
        "Edit\n",
        "with open(\"example.txt\", \"r\") as f:\n",
        "    line1 = f.readline()\n",
        "    line2 = f.readline()\n",
        "    print(line1, line2)\n",
        "✅ Use when: You're processing the file line by line (more memory efficient).\n",
        "\n",
        "21. What is the logging module in Python used for?\n",
        "The logging module in Python is used to track events that happen while your program runs. It is a powerful and flexible alternative to print() statements for debugging and monitoring.\n",
        "\n",
        "🎯 Main Uses of the logging Module:\n",
        "🔹 1. Debugging and Troubleshooting\n",
        "Logs help you trace the flow and find bugs without interrupting program execution.\n",
        "\n",
        "🔹 2. Recording Errors and Warnings\n",
        "Capture unexpected conditions or failures (e.g., API failure, file not found).\n",
        "\n",
        "🔹 3. Writing Logs to Files\n",
        "Unlike print(), logging can output to files, consoles, or external systems.\n",
        "\n",
        "🔹 4. Managing Log Levels\n",
        "Control what kind of messages to show or ignore using log levels:\n",
        "\n",
        "DEBUG, INFO, WARNING, ERROR, CRITICAL\n",
        "\n",
        "22. What is the os module in Python used for in file handling?\n",
        "\n",
        "The os module in Python provides functions to interact with the operating system, especially for file and directory operations.\n",
        "\n",
        "🔹 Common Uses of os in File Handling:\n",
        "📁 1. Working with Directories\n",
        "python\n",
        "\n",
        "os.mkdir(\"new_folder\")            # Create a new directory\n",
        "os.chdir(\"new_folder\")            # Change current directory\n",
        "os.getcwd()                       # Get current working directory\n",
        "os.listdir()                      # List files in a directory\n",
        "🗑️ 2. Deleting Files and Folders\n",
        "python\n",
        "\n",
        "os.remove(\"file.txt\")             # Delete a file\n",
        "os.rmdir(\"empty_folder\")          # Delete an empty directory\n",
        "🔁 3. Path Operations\n",
        "python\n",
        "\n",
        "os.path.exists(\"file.txt\")        # Check if file exists\n",
        "os.path.join(\"folder\", \"file.txt\") # Join paths safely\n",
        "os.path.isfile(\"file.txt\")        # Check if it's a file\n",
        "os.path.isdir(\"folder\")           # Check if it's a directory\n",
        "📦 4. Renaming and Moving\n",
        "python\n",
        "\n",
        "os.rename(\"old.txt\", \"new.txt\")   # Rename or move a file/folder\n",
        "\n",
        "23. What are the challenges associated with memory management in Python?\n",
        "\n",
        "Although Python provides automatic memory management, there are still several challenges and limitations developers should be aware of:\n",
        "\n",
        "🔹 1. Circular References\n",
        "Python uses reference counting, but objects that reference each other (e.g., in a cycle) are not freed immediately.\n",
        "\n",
        "The garbage collector must detect and clean these, which can impact performance.\n",
        "\n",
        "🔹 2. Memory Leaks\n",
        "Holding unnecessary references to objects (e.g., in global lists, caches) can prevent garbage collection, leading to increased memory usage over time.\n",
        "\n",
        "🔹 3. Global Interpreter Lock (GIL)\n",
        "Due to the GIL, Python doesn't achieve true multithreading for CPU-bound tasks.\n",
        "\n",
        "This can limit efficient memory use in multi-core systems.\n",
        "\n",
        "🔹 4. High Memory Overhead\n",
        "Python objects carry metadata, which adds memory overhead.\n",
        "\n",
        "For example, lists, dictionaries, and classes use more memory than in lower-level languages like C.\n",
        "\n",
        "🔹 5. Fragmentation\n",
        "Over time, repeated allocations and deallocations can lead to memory fragmentation, reducing performance.\n",
        "\n",
        "🔹 6. Difficulty in Manual Tuning\n",
        "Developers have limited direct control over memory allocation and garbage collection.\n",
        "\n",
        "Tuning garbage collection requires knowledge of the gc module and memory profiling tools.\n",
        "\n",
        "24. How do you raise an exception manually in Python?\n",
        "\n",
        "You can manually raise an exception in Python using the raise statement.\n",
        "\n",
        "🔹 Syntax:\n",
        "python\n",
        "Copy\n",
        "Edit\n",
        "raise ExceptionType(\"Error message\")\n",
        "🧪 Example 1: Raising a Built-in Exception\n",
        "python\n",
        "Copy\n",
        "Edit\n",
        "age = -5\n",
        "\n",
        "if age < 0:\n",
        "    raise ValueError(\"Age cannot be negative\")\n",
        "✅ Output:\n",
        "\n",
        "makefile\n",
        "Copy\n",
        "Edit\n",
        "ValueError: Age cannot be negative\n",
        "🧪 Example 2: Raising a Custom Exception\n",
        "python\n",
        "Copy\n",
        "Edit\n",
        "class MyCustomError(Exception):\n",
        "    pass\n",
        "\n",
        "raise MyCustomError(\"Something went wrong\")\n",
        "✅ Use Cases:\n",
        "To enforce input validation\n",
        "\n",
        "To abort execution when something is wrong\n",
        "\n",
        "To trigger custom error handling logic\n",
        "\n",
        "25. Why is it important to use multithreading in certain applications?\n",
        "\n",
        "Multithreading is important when your application needs to perform multiple tasks simultaneously, especially when those tasks involve I/O operations like reading files, making API calls, or waiting for user input.\n",
        "\n",
        "🔹 Key Reasons to Use Multithreading:\n",
        "1. ⚡ Improved Responsiveness\n",
        "Keeps programs responsive during long operations (e.g., GUI apps, servers).\n",
        "\n",
        "2. 🔄 Efficient I/O Handling\n",
        "Ideal for I/O-bound tasks like:\n",
        "\n",
        "Network communication\n",
        "\n",
        "File operations\n",
        "\n",
        "Waiting for user input\n",
        "\n",
        "Threads can run while others wait on I/O.\n",
        "\n",
        "3. 🚀 Better Resource Utilization\n",
        "Threads share the same memory space, reducing overhead compared to multiple processes.\n",
        "\n",
        "4. 📉 Reduced Latency\n",
        "Tasks can be broken down and executed in parallel, improving user experience.\n",
        "\n",
        "5. 🧵 Concurrent Task Management\n",
        "Allows running multiple background tasks at once (e.g., downloading files while processing user actions).\n",
        "\n",
        "⚠️ Note:\n",
        "Python’s Global Interpreter Lock (GIL) prevents true parallelism for CPU-bound tasks, so use multiprocessing for heavy computations instead."
      ],
      "metadata": {
        "id": "mubIMFvRJiF1"
      }
    },
    {
      "cell_type": "markdown",
      "source": [
        "**PYTHON PRACTICAL Q/A**"
      ],
      "metadata": {
        "id": "Hi3KcSVCXyl-"
      }
    },
    {
      "cell_type": "markdown",
      "source": [
        "1.How can you open a file for writing in Python and write a string to it?\n"
      ],
      "metadata": {
        "id": "9VOx2JbLX9Bm"
      }
    },
    {
      "cell_type": "code",
      "source": [
        "with open(\"greeting.txt\", \"w\") as file:\n",
        "    file.write(\"Hello, Python!\")"
      ],
      "metadata": {
        "id": "8hVxrU7SI4W-"
      },
      "execution_count": 1,
      "outputs": []
    },
    {
      "cell_type": "markdown",
      "source": [
        "2. Write a Python program to read the contents of a file and print each lineF?"
      ],
      "metadata": {
        "id": "Uvky64naI-AK"
      }
    },
    {
      "cell_type": "code",
      "source": [
        "# Open the file in read mode\n",
        "with open(\"example.txt\", \"r\") as file:\n",
        "    # Loop through each line and print it\n",
        "    for line in file:\n",
        "        print(line.strip())  # strip() removes extra newline characters\n"
      ],
      "metadata": {
        "id": "c0uaqbvzJPUO"
      },
      "execution_count": null,
      "outputs": []
    },
    {
      "cell_type": "markdown",
      "source": [
        "3. How would you handle a case where the file doesn't exist while trying to open it for reading?"
      ],
      "metadata": {
        "id": "Yzb0E_qjJQOl"
      }
    },
    {
      "cell_type": "code",
      "source": [
        "filename = \"data.txt\"\n",
        "\n",
        "try:\n",
        "    with open(filename, \"r\") as file:\n",
        "        content = file.read()\n",
        "        print(content)\n",
        "except FileNotFoundError:\n",
        "    print(f\"Error: The file '{filename}' was not found.\")\n"
      ],
      "metadata": {
        "id": "Qy1TlpbwJaiS"
      },
      "execution_count": null,
      "outputs": []
    },
    {
      "cell_type": "markdown",
      "source": [
        "4. Write a Python script that reads from one file and writes its content to another file?"
      ],
      "metadata": {
        "id": "DJRSgvOiJbV6"
      }
    },
    {
      "cell_type": "code",
      "source": [
        "# File names\n",
        "source_file = \"source.txt\"\n",
        "destination_file = \"destination.txt\"\n",
        "\n",
        "try:\n",
        "    # Open the source file in read mode\n",
        "    with open(source_file, \"r\") as src:\n",
        "        # Read the contents\n",
        "        content = src.read()\n",
        "\n",
        "    # Open the destination file in write mode\n",
        "    with open(destination_file, \"w\") as dest:\n",
        "        # Write the contents to the destination\n",
        "        dest.write(content)\n",
        "\n",
        "    print(\"File copied successfully.\")\n",
        "\n",
        "except FileNotFoundError:\n",
        "    print(f\"Error: '{source_file}' not found.\")\n"
      ],
      "metadata": {
        "id": "qnnr6fDaJmRJ"
      },
      "execution_count": null,
      "outputs": []
    },
    {
      "cell_type": "markdown",
      "source": [
        "5. How would you catch and handle division by zero error in Python?"
      ],
      "metadata": {
        "id": "4MDT89PUJnY0"
      }
    },
    {
      "cell_type": "code",
      "source": [
        "try:\n",
        "    a = int(input(\"Enter numerator: \"))\n",
        "    b = int(input(\"Enter denominator: \"))\n",
        "    result = a / b\n",
        "    print(\"Result:\", result)\n",
        "\n",
        "except ZeroDivisionError:\n",
        "    print(\"Error: You can't divide by zero.\")\n"
      ],
      "metadata": {
        "id": "xuRM9M5KJsG_"
      },
      "execution_count": null,
      "outputs": []
    },
    {
      "cell_type": "markdown",
      "source": [
        "6. Write a Python program that logs an error message to a log file when a division by zero exception occurs?"
      ],
      "metadata": {
        "id": "LUZOTTa9JyKY"
      }
    },
    {
      "cell_type": "code",
      "source": [
        "import logging\n",
        "\n",
        "# Set up logging to file\n",
        "logging.basicConfig(\n",
        "    filename='error.log',\n",
        "    level=logging.ERROR,\n",
        "    format='%(asctime)s - %(levelname)s - %(message)s'\n",
        ")\n",
        "\n",
        "try:\n",
        "    a = int(input(\"Enter numerator: \"))\n",
        "    b = int(input(\"Enter denominator: \"))\n",
        "    result = a / b\n",
        "    print(\"Result:\", result)\n",
        "\n",
        "except ZeroDivisionError as e:\n",
        "    print(\"Error: Cannot divide by zero.\")\n",
        "    logging.error(\"Division by zero error occurred: %s\", e)\n"
      ],
      "metadata": {
        "id": "4AO5OU1GJ58c"
      },
      "execution_count": null,
      "outputs": []
    },
    {
      "cell_type": "markdown",
      "source": [
        "7.How do you log information at different levels (INFO, ERROR, WARNING) in Python using the logging module?\n"
      ],
      "metadata": {
        "id": "5Pn8eFBiJ_6f"
      }
    },
    {
      "cell_type": "code",
      "source": [
        "import logging\n",
        "\n",
        "# Configure logging\n",
        "logging.basicConfig(\n",
        "    level=logging.DEBUG,\n",
        "    format='%(levelname)s - %(message)s'\n",
        ")\n",
        "\n",
        "# Log messages at different levels\n",
        "logging.debug(\"This is a DEBUG message\")\n",
        "logging.info(\"This is an INFO message\")\n",
        "logging.warning(\"This is a WARNING message\")\n",
        "logging.error(\"This is an ERROR message\")\n",
        "logging.critical(\"This is a CRITICAL message\")\n"
      ],
      "metadata": {
        "id": "e3A4PUIZKoMY"
      },
      "execution_count": null,
      "outputs": []
    },
    {
      "cell_type": "markdown",
      "source": [
        "8. Write a program to handle a file opening error using exception handling?"
      ],
      "metadata": {
        "id": "M2PImkBwKrFq"
      }
    },
    {
      "cell_type": "code",
      "source": [
        "filename = \"myfile.txt\"  # Change this to a non-existing file to test\n",
        "\n",
        "try:\n",
        "    with open(filename, \"r\") as file:\n",
        "        content = file.read()\n",
        "        print(\"File content:\\n\", content)\n",
        "\n",
        "except FileNotFoundError:\n",
        "    print(f\"Error: The file '{filename}' was not found.\")\n",
        "\n",
        "except PermissionError:\n",
        "    print(f\"Error: You do not have permission to open '{filename}'.\")\n",
        "\n",
        "except Exception as e:\n",
        "    print(f\"An unexpected error occurred: {e}\")\n"
      ],
      "metadata": {
        "id": "Qb1_9FpxK0HG"
      },
      "execution_count": null,
      "outputs": []
    },
    {
      "cell_type": "markdown",
      "source": [
        "9. How can you read a file line by line and store its content in a list in Python?"
      ],
      "metadata": {
        "id": "aQMDwYLtLN09"
      }
    },
    {
      "cell_type": "code",
      "source": [
        "# File name to read from\n",
        "filename = \"example.txt\"\n",
        "\n",
        "try:\n",
        "    with open(filename, \"r\") as file:\n",
        "        # Read each line, strip newline, and store in a list\n",
        "        lines = [line.strip() for line in file]\n",
        "\n",
        "    # Print the list\n",
        "    print(\"Lines stored in a list:\")\n",
        "    print(lines)\n",
        "\n",
        "except FileNotFoundError:\n",
        "    print(f\"Error: File '{filename}' not found.\")\n"
      ],
      "metadata": {
        "id": "ay5vlKkbLXxm"
      },
      "execution_count": null,
      "outputs": []
    },
    {
      "cell_type": "markdown",
      "source": [
        "10. How can you append data to an existing file in Python?"
      ],
      "metadata": {
        "id": "8-K17qlcLx6K"
      }
    },
    {
      "cell_type": "code",
      "source": [
        "# Open the file in append mode\n",
        "with open(\"example.txt\", \"a\") as file:\n",
        "    file.write(\"\\nThis line was appended.\")\n"
      ],
      "metadata": {
        "id": "lfjxR6ibL5pV"
      },
      "execution_count": null,
      "outputs": []
    },
    {
      "cell_type": "markdown",
      "source": [
        "11. Write a Python program that uses a try-except block to handle an error when attempting to access a\n",
        "dictionary key that doesn't exist"
      ],
      "metadata": {
        "id": "1E8P9GsEMC2R"
      }
    },
    {
      "cell_type": "code",
      "source": [
        "# Define a dictionary\n",
        "student_scores = {\n",
        "    \"Alice\": 85,\n",
        "    \"Bob\": 90\n",
        "}\n",
        "\n",
        "# Try to access a key that may not exist\n",
        "try:\n",
        "    name = \"Charlie\"\n",
        "    score = student_scores[name]\n",
        "    print(f\"{name}'s score is {score}\")\n",
        "except KeyError:\n",
        "    print(f\"Error: '{name}' key not found in the dictionary.\")\n"
      ],
      "metadata": {
        "id": "uAWwo3lMMOwp"
      },
      "execution_count": null,
      "outputs": []
    },
    {
      "cell_type": "markdown",
      "source": [
        "12. Write a program that demonstrates using multiple except blocks to handle different types of exceptions?"
      ],
      "metadata": {
        "id": "h_nGFESWMQyV"
      }
    },
    {
      "cell_type": "code",
      "source": [
        "try:\n",
        "    num1 = int(input(\"Enter a number: \"))\n",
        "    num2 = int(input(\"Enter another number: \"))\n",
        "    result = num1 / num2\n",
        "    print(\"Result:\", result)\n",
        "\n",
        "except ZeroDivisionError:\n",
        "    print(\"Error: You can't divide by zero.\")\n",
        "\n",
        "except ValueError:\n",
        "    print(\"Error: Please enter valid integers only.\")\n",
        "\n",
        "except Exception as e:\n",
        "    print(\"An unexpected error occurred:\", e)\n"
      ],
      "metadata": {
        "id": "6pGm-BO2MhvP"
      },
      "execution_count": null,
      "outputs": []
    },
    {
      "cell_type": "markdown",
      "source": [
        "13. How would you check if a file exists before attempting to read it in Python?"
      ],
      "metadata": {
        "id": "8N-7ZqnGMjdk"
      }
    },
    {
      "cell_type": "code",
      "source": [
        "import os\n",
        "\n",
        "filename = \"data.txt\"\n",
        "\n",
        "if os.path.exists(filename):\n",
        "    with open(filename, \"r\") as file:\n",
        "        content = file.read()\n",
        "        print(\"File content:\\n\", content)\n",
        "else:\n",
        "    print(f\"File '{filename}' does not exist.\")\n"
      ],
      "metadata": {
        "id": "GlZoAq9bM2v8"
      },
      "execution_count": null,
      "outputs": []
    },
    {
      "cell_type": "markdown",
      "source": [
        "14. Write a program that uses the logging module to log both informational and error messages?\n"
      ],
      "metadata": {
        "id": "JhTxUQy9M3ry"
      }
    },
    {
      "cell_type": "code",
      "source": [
        "import logging\n",
        "\n",
        "# Configure logging\n",
        "logging.basicConfig(\n",
        "    filename='app.log',            # Log file name\n",
        "    level=logging.INFO,            # Minimum level to log\n",
        "    format='%(asctime)s - %(levelname)s - %(message)s'\n",
        ")\n",
        "\n",
        "# Log an informational message\n",
        "logging.info(\"Program started successfully.\")\n",
        "\n",
        "# Example operation\n",
        "try:\n",
        "    x = int(input(\"Enter a number to divide 100 by: \"))\n",
        "    result = 100 / x\n",
        "    logging.info(f\"Division successful. Result = {result}\")\n",
        "\n",
        "except ZeroDivisionError:\n",
        "    logging.error(\"Attempted to divide by zero.\")\n",
        "\n",
        "except ValueError:\n",
        "    logging.error(\"Invalid input: not a number.\")\n",
        "\n",
        "except Exception as e:\n",
        "    logging.error(f\"Unexpected error occurred: {e}\")\n"
      ],
      "metadata": {
        "id": "X48Hjqa0NPgy"
      },
      "execution_count": null,
      "outputs": []
    },
    {
      "cell_type": "markdown",
      "source": [
        "15. Write a Python program that prints the content of a file and handles the case when the file is empty?"
      ],
      "metadata": {
        "id": "1yxuN7UjNSCx"
      }
    },
    {
      "cell_type": "code",
      "source": [
        "filename = \"sample.txt\"  # Change this to your actual file\n",
        "\n",
        "try:\n",
        "    with open(filename, \"r\") as file:\n",
        "        content = file.read()\n",
        "        if not content.strip():  # Check if file is empty or has only whitespace\n",
        "            print(f\"The file '{filename}' is empty.\")\n",
        "        else:\n",
        "            print(\"File content:\\n\")\n",
        "            print(content)\n",
        "\n",
        "except FileNotFoundError:\n",
        "    print(f\"Error: The file '{filename}' was not found.\")\n"
      ],
      "metadata": {
        "id": "UnQ3CYXONfii"
      },
      "execution_count": null,
      "outputs": []
    },
    {
      "cell_type": "markdown",
      "source": [
        "16. Demonstrate how to use memory profiling to check the memory usage of a small program?"
      ],
      "metadata": {
        "id": "NrvYoMNvNlLo"
      }
    },
    {
      "cell_type": "code",
      "source": [
        "from memory_profiler import profile\n",
        "\n",
        "@profile\n",
        "def my_function():\n",
        "    data = [x * 2 for x in range(100000)]  # allocate memory\n",
        "    return sum(data)\n",
        "\n",
        "if __name__ == \"__main__\":\n",
        "    my_function()\n"
      ],
      "metadata": {
        "id": "AySFhz-TN9yh"
      },
      "execution_count": null,
      "outputs": []
    },
    {
      "cell_type": "markdown",
      "source": [
        "17. Write a Python program to create and write a list of numbers to a file, one number per line?"
      ],
      "metadata": {
        "id": "uCcA-uw1OE6Z"
      }
    },
    {
      "cell_type": "code",
      "source": [
        "# List of numbers\n",
        "numbers = [10, 20, 30, 40, 50]\n",
        "\n",
        "# File to write to\n",
        "filename = \"numbers.txt\"\n",
        "\n",
        "try:\n",
        "    with open(filename, \"w\") as file:\n",
        "        for num in numbers:\n",
        "            file.write(f\"{num}\\n\")  # Write each number on a new line\n",
        "\n",
        "    print(f\"Numbers written to '{filename}' successfully.\")\n",
        "\n",
        "except Exception as e:\n",
        "    print(f\"An error occurred: {e}\")\n"
      ],
      "metadata": {
        "id": "_t5PqGTFOUl_"
      },
      "execution_count": null,
      "outputs": []
    },
    {
      "cell_type": "markdown",
      "source": [
        "18. How would you implement a basic logging setup that logs to a file with rotation after 1MB?"
      ],
      "metadata": {
        "id": "L8-hsmZPOVeu"
      }
    },
    {
      "cell_type": "code",
      "source": [
        "import logging\n",
        "from logging.handlers import RotatingFileHandler\n",
        "\n",
        "# Set up rotating log handler (rotates after 1MB, keeps 3 backups)\n",
        "log_handler = RotatingFileHandler(\n",
        "    \"app.log\",           # Log file name\n",
        "    maxBytes=1_000_000,  # 1MB = 1,000,000 bytes\n",
        "    backupCount=3        # Keep up to 3 backup log files\n",
        ")\n",
        "\n",
        "# Configure logging\n",
        "logging.basicConfig(\n",
        "    level=logging.INFO,\n",
        "    handlers=[log_handler],\n",
        "    format='%(asctime)s - %(levelname)s - %(message)s'\n",
        ")\n",
        "\n",
        "# Example usage\n",
        "for i in range(10000):\n",
        "    logging.info(f\"Log message number {i}\")\n"
      ],
      "metadata": {
        "id": "IqatxOMxOnYx"
      },
      "execution_count": null,
      "outputs": []
    },
    {
      "cell_type": "markdown",
      "source": [
        "19. Write a program that handles both IndexError and KeyError using a try-except block?"
      ],
      "metadata": {
        "id": "bOyJK6XdOoWJ"
      }
    },
    {
      "cell_type": "code",
      "source": [
        "my_list = [10, 20, 30]\n",
        "my_dict = {\"a\": 1, \"b\": 2}\n",
        "\n",
        "try:\n",
        "    # Intentionally access invalid index and key\n",
        "    print(\"Accessing list index 5:\", my_list[5])    # Will raise IndexError\n",
        "    print(\"Accessing dictionary key 'z':\", my_dict[\"z\"])  # Will raise KeyError\n",
        "\n",
        "except IndexError:\n",
        "    print(\"Error: List index out of range.\")\n",
        "\n",
        "except KeyError:\n",
        "    print(\"Error: Dictionary key not found.\")\n",
        "\n",
        "except Exception as e:\n",
        "    print(\"An unexpected error occurred:\", e)\n"
      ],
      "metadata": {
        "id": "LuLsry9NO6gd"
      },
      "execution_count": null,
      "outputs": []
    },
    {
      "cell_type": "markdown",
      "source": [
        "20. How would you open a file and read its contents using a context manager in Python?\n"
      ],
      "metadata": {
        "id": "gD5JJcKPO7ez"
      }
    },
    {
      "cell_type": "code",
      "source": [
        "# Open and read a file using a context manager\n",
        "with open(\"example.txt\", \"r\") as file:\n",
        "    content = file.read()\n",
        "    print(\"File content:\\n\", content)\n"
      ],
      "metadata": {
        "id": "RbY57u04PMMb"
      },
      "execution_count": null,
      "outputs": []
    },
    {
      "cell_type": "markdown",
      "source": [
        "21. Write a Python program that reads a file and prints the number of occurrences of a specific word?\n"
      ],
      "metadata": {
        "id": "O19fWVdFPYmA"
      }
    },
    {
      "cell_type": "code",
      "source": [
        "def count_word_occurrences(filename, word_to_count):\n",
        "    try:\n",
        "        with open(filename, \"r\") as file:\n",
        "            content = file.read()\n",
        "            # Convert to lowercase for case-insensitive matching\n",
        "            content = content.lower()\n",
        "            word_to_count = word_to_count.lower()\n",
        "\n",
        "            # Split content into words\n",
        "            words = content.split()\n",
        "            count = words.count(word_to_count)\n",
        "\n",
        "            print(f\"The word '{word_to_count}' occurs {count} times in '{filename}'.\")\n",
        "\n",
        "    except FileNotFoundError:\n",
        "        print(f\"Error: File '{filename}' not found.\")\n",
        "\n",
        "# Example usage\n",
        "count_word_occurrences(\"sample.txt\", \"python\")\n"
      ],
      "metadata": {
        "id": "R39I1FkJPzOT"
      },
      "execution_count": null,
      "outputs": []
    },
    {
      "cell_type": "markdown",
      "source": [
        "22. How can you check if a file is empty before attempting to read its contents?\n"
      ],
      "metadata": {
        "id": "LGqvKjAqP0cX"
      }
    },
    {
      "cell_type": "code",
      "source": [
        "import os\n",
        "\n",
        "filename = \"example.txt\"\n",
        "\n",
        "if os.path.exists(filename):\n",
        "    if os.path.getsize(filename) == 0:\n",
        "        print(f\"The file '{filename}' is empty.\")\n",
        "    else:\n",
        "        with open(filename, \"r\") as file:\n",
        "            content = file.read()\n",
        "            print(\"File content:\\n\", content)\n",
        "else:\n",
        "    print(f\"File '{filename}' does not exist.\")\n"
      ],
      "metadata": {
        "id": "R-4tk_3hQILP"
      },
      "execution_count": null,
      "outputs": []
    },
    {
      "cell_type": "markdown",
      "source": [
        "23. Write a Python program that writes to a log file when an error occurs during file handling."
      ],
      "metadata": {
        "id": "spdLU3klQNA6"
      }
    },
    {
      "cell_type": "code",
      "source": [
        "import logging\n",
        "\n",
        "# Configure logging to log to a file\n",
        "logging.basicConfig(\n",
        "    filename='file_errors.log',\n",
        "    level=logging.ERROR,\n",
        "    format='%(asctime)s - %(levelname)s - %(message)s'\n",
        ")\n",
        "\n",
        "filename = \"nonexistent_file.txt\"\n",
        "\n",
        "try:\n",
        "    with open(filename, \"r\") as file:\n",
        "        content = file.read()\n",
        "        print(\"File content:\\n\", content)\n",
        "\n",
        "except FileNotFoundError as e:\n",
        "    print(f\"Error: The file '{filename}' was not found.\")\n",
        "    logging.error(f\"FileNotFoundError: {e}\")\n",
        "\n",
        "except Exception as e:\n",
        "    print(\"An unexpected error occurred.\")\n",
        "    logging.error(f\"Unexpected error: {e}\")\n"
      ],
      "metadata": {
        "id": "MWa_z-BiQYEv"
      },
      "execution_count": null,
      "outputs": []
    }
  ]
}